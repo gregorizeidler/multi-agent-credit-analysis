{
  "cells": [
    {
      "cell_type": "code",
      "execution_count": null,
      "metadata": {
        "vscode": {
          "languageId": "plaintext"
        }
      },
      "outputs": [],
      "source": [
        "# Deep Dive Técnico: Arquitetura e Implementação\n",
        "\n",
        "Este notebook explora os aspectos técnicos avançados da implementação da Orquestra de Agentes.\n",
        "\n",
        "## 1. Arquitetura do Sistema\n"
      ]
    },
    {
      "cell_type": "code",
      "execution_count": null,
      "metadata": {},
      "outputs": [],
      "source": [
        "import sys\n",
        "sys.path.append('..')\n",
        "\n",
        "# Visualizar dependências principais\n",
        "from src.graph.credit_analysis_graph import CreditAnalysisGraph\n",
        "from src.agents.base_agent import BaseAgent\n",
        "from src.tools.vector_store import VectorStore\n",
        "from src.models.schemas import AgentState\n",
        "\n",
        "print(\"🏗️ ARQUITETURA DO SISTEMA\")\n",
        "print(\"=\" * 50)\n",
        "print()\n",
        "print(\"📦 Componentes Principais:\")\n",
        "print(\"  • LangGraph: Orquestração de fluxo\")\n",
        "print(\"  • Agentes: Especialistas com LLMs\")\n",
        "print(\"  • Vector Store: RAG com FAISS\")\n",
        "print(\"  • Tools: APIs e processadores\")\n",
        "print(\"  • FastAPI: Interface REST\")\n",
        "print()\n",
        "print(\"🔄 Fluxo de Dados:\")\n",
        "print(\"  Input → DataGatherer → DocumentAnalyst → RiskAnalyst → QA → Output\")\n",
        "print(\"                                                      ↑        ↓\")\n",
        "print(\"                                                   Feedback ← Retry\")\n"
      ]
    },
    {
      "cell_type": "code",
      "execution_count": null,
      "metadata": {},
      "outputs": [],
      "source": [
        "## 2. Análise dos Agentes\n",
        "\n",
        "Vamos examinar cada agente em detalhes.\n"
      ]
    },
    {
      "cell_type": "code",
      "execution_count": null,
      "metadata": {},
      "outputs": [],
      "source": [
        "# Inspecionar estrutura dos agentes\n",
        "from src.agents.data_gatherer import DataGathererAgent\n",
        "from src.agents.document_analyst import DocumentAnalystAgent\n",
        "from src.agents.risk_analyst import RiskAnalystAgent\n",
        "from src.agents.quality_assurance import QualityAssuranceAgent\n",
        "\n",
        "agents = {\n",
        "    \"DataGatherer\": DataGathererAgent(),\n",
        "    \"DocumentAnalyst\": DocumentAnalystAgent(),\n",
        "    \"RiskAnalyst\": RiskAnalystAgent(),\n",
        "    \"QualityAssurance\": QualityAssuranceAgent()\n",
        "}\n",
        "\n",
        "print(\"🤖 ANÁLISE DOS AGENTES\")\n",
        "print(\"=\" * 40)\n",
        "\n",
        "for name, agent in agents.items():\n",
        "    print(f\"\\n{name}:\")\n",
        "    print(f\"  • Classe: {type(agent).__name__}\")\n",
        "    print(f\"  • LLM: {type(agent.llm).__name__}\")\n",
        "    \n",
        "    # Mostrar atributos específicos\n",
        "    if hasattr(agent, 'financial_questions'):\n",
        "        print(f\"  • Perguntas RAG: {len(agent.financial_questions)}\")\n",
        "    if hasattr(agent, 'financial_thresholds'):\n",
        "        print(f\"  • Thresholds financeiros: {len(agent.financial_thresholds)}\")\n"
      ]
    }
  ],
  "metadata": {
    "language_info": {
      "name": "python"
    }
  },
  "nbformat": 4,
  "nbformat_minor": 2
}
