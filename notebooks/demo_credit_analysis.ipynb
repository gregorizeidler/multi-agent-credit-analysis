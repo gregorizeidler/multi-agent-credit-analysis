{
  "cells": [
    {
      "cell_type": "code",
      "execution_count": null,
      "metadata": {
        "vscode": {
          "languageId": "plaintext"
        }
      },
      "outputs": [],
      "source": [
        "# Demonstração: Orquestra de Agentes para Análise de Crédito\n",
        "\n",
        "Este notebook demonstra o funcionamento do sistema multi-agente para análise de risco de crédito.\n",
        "\n",
        "## Visão Geral\n",
        "\n",
        "O sistema utiliza 4 agentes especializados:\n",
        "1. **DataGatherer**: Coleta dados públicos via CNPJ\n",
        "2. **DocumentAnalyst**: Processa documentos financeiros usando RAG\n",
        "3. **RiskAnalyst**: Análise consolidada de risco\n",
        "4. **QualityAssurance**: Validação e controle de qualidade\n"
      ]
    },
    {
      "cell_type": "code",
      "execution_count": null,
      "metadata": {},
      "outputs": [],
      "source": [
        "# Importações necessárias\n",
        "import sys\n",
        "import os\n",
        "import asyncio\n",
        "from datetime import datetime\n",
        "\n",
        "# Adicionar o diretório raiz ao path\n",
        "sys.path.append('..')\n",
        "\n",
        "from src.graph.credit_analysis_graph import credit_analysis_graph\n",
        "from src.models.schemas import AgentState\n",
        "from src.config import get_settings\n",
        "\n",
        "# Configurar ambiente\n",
        "os.environ['ENVIRONMENT'] = 'development'\n",
        "settings = get_settings()\n",
        "\n",
        "print(\"📊 Sistema inicializado!\")\n",
        "print(f\"Provedor LLM: {settings.llm_provider}\")\n",
        "print(f\"Modelo: {settings.openai_model if settings.llm_provider == 'openai' else settings.anthropic_model}\")\n"
      ]
    }
  ],
  "metadata": {
    "language_info": {
      "name": "python"
    }
  },
  "nbformat": 4,
  "nbformat_minor": 2
}
